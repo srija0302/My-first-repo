{
  "nbformat": 4,
  "nbformat_minor": 0,
  "metadata": {
    "colab": {
      "name": "Montyhallproblem",
      "provenance": [],
      "authorship_tag": "ABX9TyMe87gtWivD7uT+hLDTOWzX",
      "include_colab_link": true
    },
    "kernelspec": {
      "name": "python3",
      "display_name": "Python 3"
    }
  },
  "cells": [
    {
      "cell_type": "markdown",
      "metadata": {
        "id": "view-in-github",
        "colab_type": "text"
      },
      "source": [
        "<a href=\"https://colab.research.google.com/github/srijareddy0302/My-first-repo/blob/master/Montyhallproblem.ipynb\" target=\"_parent\"><img src=\"https://colab.research.google.com/assets/colab-badge.svg\" alt=\"Open In Colab\"/></a>"
      ]
    },
    {
      "cell_type": "code",
      "metadata": {
        "id": "hVszLeqAxfaJ",
        "colab_type": "code",
        "colab": {
          "base_uri": "https://localhost:8080/",
          "height": 50
        },
        "outputId": "5e8cf247-57a6-4aff-bb85-96f511efbf07"
      },
      "source": [
        "import random\n",
        "print(\"when player chooses to stay\")\n",
        "list1=[\"car\",\"goat\",\"goat\"]\n",
        "count=0\n",
        "for i in range(1,1001):\n",
        "  n=random.choice(list1)\n",
        "  if n=='car':\n",
        "    count=count+1\n",
        "print(count)\n"
      ],
      "execution_count": 4,
      "outputs": [
        {
          "output_type": "stream",
          "text": [
            "when player chooses to stay\n",
            "344\n"
          ],
          "name": "stdout"
        }
      ]
    },
    {
      "cell_type": "code",
      "metadata": {
        "id": "PPLV1Fboz8ij",
        "colab_type": "code",
        "colab": {}
      },
      "source": [
        ""
      ],
      "execution_count": 0,
      "outputs": []
    }
  ]
}