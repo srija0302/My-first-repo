{
  "nbformat": 4,
  "nbformat_minor": 0,
  "metadata": {
    "colab": {
      "name": "collatzconjecture.ipynb",
      "provenance": [],
      "authorship_tag": "ABX9TyP3tkLVYQla1bB6UtXEvlZg",
      "include_colab_link": true
    },
    "kernelspec": {
      "name": "python3",
      "display_name": "Python 3"
    }
  },
  "cells": [
    {
      "cell_type": "markdown",
      "metadata": {
        "id": "view-in-github",
        "colab_type": "text"
      },
      "source": [
        "<a href=\"https://colab.research.google.com/github/srijareddy0302/My-first-repo/blob/master/collatzconjecture.ipynb\" target=\"_parent\"><img src=\"https://colab.research.google.com/assets/colab-badge.svg\" alt=\"Open In Colab\"/></a>"
      ]
    },
    {
      "cell_type": "code",
      "metadata": {
        "id": "hfvxRfANRg7v",
        "colab_type": "code",
        "outputId": "112774fa-8391-47b7-8818-764d8e7a5139",
        "colab": {
          "base_uri": "https://localhost:8080/",
          "height": 1000
        }
      },
      "source": [
        "for i in range(1,10000):\n",
        " n1=i\n",
        " print(n1)\n",
        " while n1!=1:\n",
        "\n",
        "    if(n1%2==0):\n",
        "      n1=n1/2\n",
        "    else:\n",
        "      n1=(n1*3)+1\n",
        "    print(\"-->\",n1)\n"
      ],
      "execution_count": 10,
      "outputs": [
        {
          "output_type": "stream",
          "text": [
            "1\n",
            "2\n",
            "--> 1.0\n",
            "3\n",
            "--> 10\n",
            "--> 5.0\n",
            "--> 16.0\n",
            "--> 8.0\n",
            "--> 4.0\n",
            "--> 2.0\n",
            "--> 1.0\n",
            "4\n",
            "--> 2.0\n",
            "--> 1.0\n",
            "5\n",
            "--> 16\n",
            "--> 8.0\n",
            "--> 4.0\n",
            "--> 2.0\n",
            "--> 1.0\n",
            "6\n",
            "--> 3.0\n",
            "--> 10.0\n",
            "--> 5.0\n",
            "--> 16.0\n",
            "--> 8.0\n",
            "--> 4.0\n",
            "--> 2.0\n",
            "--> 1.0\n",
            "7\n",
            "--> 22\n",
            "--> 11.0\n",
            "--> 34.0\n",
            "--> 17.0\n",
            "--> 52.0\n",
            "--> 26.0\n",
            "--> 13.0\n",
            "--> 40.0\n",
            "--> 20.0\n",
            "--> 10.0\n",
            "--> 5.0\n",
            "--> 16.0\n",
            "--> 8.0\n",
            "--> 4.0\n",
            "--> 2.0\n",
            "--> 1.0\n",
            "8\n",
            "--> 4.0\n",
            "--> 2.0\n",
            "--> 1.0\n",
            "9\n",
            "--> 28\n",
            "--> 14.0\n",
            "--> 7.0\n",
            "--> 22.0\n",
            "--> 11.0\n",
            "--> 34.0\n",
            "--> 17.0\n",
            "--> 52.0\n",
            "--> 26.0\n",
            "--> 13.0\n",
            "--> 40.0\n",
            "--> 20.0\n",
            "--> 10.0\n",
            "--> 5.0\n",
            "--> 16.0\n",
            "--> 8.0\n",
            "--> 4.0\n",
            "--> 2.0\n",
            "--> 1.0\n"
          ],
          "name": "stdout"
        }
      ]
    }
  ]
}