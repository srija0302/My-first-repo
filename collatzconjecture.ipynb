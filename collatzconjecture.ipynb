{
  "nbformat": 4,
  "nbformat_minor": 0,
  "metadata": {
    "colab": {
      "name": "collatzconjecture.ipynb",
      "provenance": [],
      "authorship_tag": "ABX9TyN2g0ckab/lZ2pCJpueap2S",
      "include_colab_link": true
    },
    "kernelspec": {
      "name": "python3",
      "display_name": "Python 3"
    }
  },
  "cells": [
    {
      "cell_type": "markdown",
      "metadata": {
        "id": "view-in-github",
        "colab_type": "text"
      },
      "source": [
        "<a href=\"https://colab.research.google.com/github/srijareddy0302/My-first-repo/blob/master/collatzconjecture.ipynb\" target=\"_parent\"><img src=\"https://colab.research.google.com/assets/colab-badge.svg\" alt=\"Open In Colab\"/></a>"
      ]
    },
    {
      "cell_type": "code",
      "metadata": {
        "id": "hfvxRfANRg7v",
        "colab_type": "code",
        "outputId": "894ca6fd-8f8d-4cb6-aad5-b012b8617205",
        "colab": {
          "base_uri": "https://localhost:8080/",
          "height": 521
        }
      },
      "source": [
        "n=10000\n",
        "n1=n\n",
        "print(n1)\n",
        "while n1!=1:\n",
        "\n",
        "    if(n1%2==0):\n",
        "      n1=n1/2\n",
        "    else:\n",
        "      n1=(n1*3)+1\n",
        "    print(\"-->\",n1)\n"
      ],
      "execution_count": 0,
      "outputs": [
        {
          "output_type": "stream",
          "text": [
            "10000\n",
            "--> 5000.0\n",
            "--> 2500.0\n",
            "--> 1250.0\n",
            "--> 625.0\n",
            "--> 1876.0\n",
            "--> 938.0\n",
            "--> 469.0\n",
            "--> 1408.0\n",
            "--> 704.0\n",
            "--> 352.0\n",
            "--> 176.0\n",
            "--> 88.0\n",
            "--> 44.0\n",
            "--> 22.0\n",
            "--> 11.0\n",
            "--> 34.0\n",
            "--> 17.0\n",
            "--> 52.0\n",
            "--> 26.0\n",
            "--> 13.0\n",
            "--> 40.0\n",
            "--> 20.0\n",
            "--> 10.0\n",
            "--> 5.0\n",
            "--> 16.0\n",
            "--> 8.0\n",
            "--> 4.0\n",
            "--> 2.0\n",
            "--> 1.0\n"
          ],
          "name": "stdout"
        }
      ]
    }
  ]
}