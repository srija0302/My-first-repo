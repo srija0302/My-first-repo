{
  "nbformat": 4,
  "nbformat_minor": 0,
  "metadata": {
    "colab": {
      "name": "Montyhallproblem1.ipynb",
      "provenance": [],
      "authorship_tag": "ABX9TyMynxHj5iPnK6bIMgfh7erd",
      "include_colab_link": true
    },
    "kernelspec": {
      "name": "python3",
      "display_name": "Python 3"
    }
  },
  "cells": [
    {
      "cell_type": "markdown",
      "metadata": {
        "id": "view-in-github",
        "colab_type": "text"
      },
      "source": [
        "<a href=\"https://colab.research.google.com/github/srijareddy0302/My-first-repo/blob/master/Montyhallproblem1.ipynb\" target=\"_parent\"><img src=\"https://colab.research.google.com/assets/colab-badge.svg\" alt=\"Open In Colab\"/></a>"
      ]
    },
    {
      "cell_type": "code",
      "metadata": {
        "id": "bC4bPczC0-9X",
        "colab_type": "code",
        "colab": {}
      },
      "source": [
        "import random\n",
        "print(\"when player chooses to switch\")\n",
        "list1=[\"car\",\"goat\",\"goat\"]\n",
        "count=0\n",
        "for i in range(1,1001):\n",
        "  n=random.choice(list1)\n",
        "  if n=='goat':\n",
        "    count=count+1\n",
        "print(count)"
      ],
      "execution_count": 0,
      "outputs": []
    }
  ]
}